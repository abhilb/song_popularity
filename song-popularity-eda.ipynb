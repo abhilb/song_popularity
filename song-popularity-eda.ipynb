{
 "cells": [
  {
   "cell_type": "code",
   "execution_count": 1,
   "id": "fa4dd3b0",
   "metadata": {
    "_cell_guid": "b1076dfc-b9ad-4769-8c92-a6c4dae69d19",
    "_uuid": "8f2839f25d086af736a60e9eeb907d3b93b6e0e5",
    "execution": {
     "iopub.execute_input": "2022-01-29T19:40:48.998456Z",
     "iopub.status.busy": "2022-01-29T19:40:48.997928Z",
     "iopub.status.idle": "2022-01-29T19:40:49.007107Z",
     "shell.execute_reply": "2022-01-29T19:40:49.006513Z",
     "shell.execute_reply.started": "2022-01-29T19:34:10.294031Z"
    },
    "papermill": {
     "duration": 0.023445,
     "end_time": "2022-01-29T19:40:49.007343",
     "exception": false,
     "start_time": "2022-01-29T19:40:48.983898",
     "status": "completed"
    },
    "tags": []
   },
   "outputs": [
    {
     "name": "stdout",
     "output_type": "stream",
     "text": [
      "/kaggle/input/song-popularity-prediction/sample_submission.csv\n",
      "/kaggle/input/song-popularity-prediction/train.csv\n",
      "/kaggle/input/song-popularity-prediction/test.csv\n"
     ]
    }
   ],
   "source": [
    "from pathlib import Path\n",
    "import numpy as np\n",
    "import pandas as pd\n",
    "import matplotlib.pyplot as plt\n",
    "\n",
    "for item in Path('/kaggle/input').rglob(\"*\"):\n",
    "    if item.is_file():\n",
    "        print(item)"
   ]
  },
  {
   "cell_type": "code",
   "execution_count": 2,
   "id": "b0b45853",
   "metadata": {
    "execution": {
     "iopub.execute_input": "2022-01-29T19:40:49.019419Z",
     "iopub.status.busy": "2022-01-29T19:40:49.018834Z",
     "iopub.status.idle": "2022-01-29T19:40:49.048945Z",
     "shell.execute_reply": "2022-01-29T19:40:49.049479Z",
     "shell.execute_reply.started": "2022-01-29T19:35:16.965871Z"
    },
    "papermill": {
     "duration": 0.037958,
     "end_time": "2022-01-29T19:40:49.049637",
     "exception": false,
     "start_time": "2022-01-29T19:40:49.011679",
     "status": "completed"
    },
    "tags": []
   },
   "outputs": [
    {
     "data": {
      "text/html": [
       "<div>\n",
       "<style scoped>\n",
       "    .dataframe tbody tr th:only-of-type {\n",
       "        vertical-align: middle;\n",
       "    }\n",
       "\n",
       "    .dataframe tbody tr th {\n",
       "        vertical-align: top;\n",
       "    }\n",
       "\n",
       "    .dataframe thead th {\n",
       "        text-align: right;\n",
       "    }\n",
       "</style>\n",
       "<table border=\"1\" class=\"dataframe\">\n",
       "  <thead>\n",
       "    <tr style=\"text-align: right;\">\n",
       "      <th></th>\n",
       "      <th>id</th>\n",
       "      <th>song_popularity</th>\n",
       "    </tr>\n",
       "  </thead>\n",
       "  <tbody>\n",
       "    <tr>\n",
       "      <th>0</th>\n",
       "      <td>0</td>\n",
       "      <td>0</td>\n",
       "    </tr>\n",
       "    <tr>\n",
       "      <th>1</th>\n",
       "      <td>1</td>\n",
       "      <td>0</td>\n",
       "    </tr>\n",
       "    <tr>\n",
       "      <th>2</th>\n",
       "      <td>2</td>\n",
       "      <td>0</td>\n",
       "    </tr>\n",
       "    <tr>\n",
       "      <th>3</th>\n",
       "      <td>3</td>\n",
       "      <td>0</td>\n",
       "    </tr>\n",
       "    <tr>\n",
       "      <th>4</th>\n",
       "      <td>4</td>\n",
       "      <td>0</td>\n",
       "    </tr>\n",
       "  </tbody>\n",
       "</table>\n",
       "</div>"
      ],
      "text/plain": [
       "   id  song_popularity\n",
       "0   0                0\n",
       "1   1                0\n",
       "2   2                0\n",
       "3   3                0\n",
       "4   4                0"
      ]
     },
     "execution_count": 2,
     "metadata": {},
     "output_type": "execute_result"
    }
   ],
   "source": [
    "train_df = pd.read_csv('/kaggle/input/song-popularity-prediction/sample_submission.csv')\n",
    "train_df.head()"
   ]
  },
  {
   "cell_type": "code",
   "execution_count": null,
   "id": "fe8a892b",
   "metadata": {
    "papermill": {
     "duration": 0.004791,
     "end_time": "2022-01-29T19:40:49.059853",
     "exception": false,
     "start_time": "2022-01-29T19:40:49.055062",
     "status": "completed"
    },
    "tags": []
   },
   "outputs": [],
   "source": []
  }
 ],
 "metadata": {
  "kernelspec": {
   "display_name": "Python 3",
   "language": "python",
   "name": "python3"
  },
  "language_info": {
   "codemirror_mode": {
    "name": "ipython",
    "version": 3
   },
   "file_extension": ".py",
   "mimetype": "text/x-python",
   "name": "python",
   "nbconvert_exporter": "python",
   "pygments_lexer": "ipython3",
   "version": "3.7.12"
  },
  "papermill": {
   "default_parameters": {},
   "duration": 8.846867,
   "end_time": "2022-01-29T19:40:49.673317",
   "environment_variables": {},
   "exception": null,
   "input_path": "__notebook__.ipynb",
   "output_path": "__notebook__.ipynb",
   "parameters": {},
   "start_time": "2022-01-29T19:40:40.826450",
   "version": "2.3.3"
  }
 },
 "nbformat": 4,
 "nbformat_minor": 5
}
