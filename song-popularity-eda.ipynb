{
 "cells": [
  {
   "cell_type": "markdown",
   "id": "cd7a2c5c",
   "metadata": {
    "papermill": {
     "duration": 0.008937,
     "end_time": "2022-01-31T22:24:20.380229",
     "exception": false,
     "start_time": "2022-01-31T22:24:20.371292",
     "status": "completed"
    },
    "tags": []
   },
   "source": [
    "# Import packages"
   ]
  },
  {
   "cell_type": "code",
   "execution_count": 1,
   "id": "b9dbe077",
   "metadata": {
    "_cell_guid": "b1076dfc-b9ad-4769-8c92-a6c4dae69d19",
    "_uuid": "8f2839f25d086af736a60e9eeb907d3b93b6e0e5",
    "execution": {
     "iopub.execute_input": "2022-01-31T22:24:20.399937Z",
     "iopub.status.busy": "2022-01-31T22:24:20.398681Z",
     "iopub.status.idle": "2022-01-31T22:24:21.686450Z",
     "shell.execute_reply": "2022-01-31T22:24:21.685469Z",
     "shell.execute_reply.started": "2022-01-31T22:23:31.487181Z"
    },
    "papermill": {
     "duration": 1.298424,
     "end_time": "2022-01-31T22:24:21.686644",
     "exception": false,
     "start_time": "2022-01-31T22:24:20.388220",
     "status": "completed"
    },
    "tags": []
   },
   "outputs": [],
   "source": [
    "from pathlib import Path\n",
    "import numpy as np\n",
    "import pandas as pd\n",
    "import matplotlib.pyplot as plt\n",
    "from sklearn.impute import SimpleImputer\n",
    "from sklearn.experimental import enable_iterative_imputer\n",
    "from sklearn.impute import IterativeImputer"
   ]
  },
  {
   "cell_type": "markdown",
   "id": "bee687d2",
   "metadata": {
    "papermill": {
     "duration": 0.006299,
     "end_time": "2022-01-31T22:24:21.699850",
     "exception": false,
     "start_time": "2022-01-31T22:24:21.693551",
     "status": "completed"
    },
    "tags": []
   },
   "source": [
    "# Load data"
   ]
  },
  {
   "cell_type": "code",
   "execution_count": 2,
   "id": "c8b1d750",
   "metadata": {
    "execution": {
     "iopub.execute_input": "2022-01-31T22:24:21.719233Z",
     "iopub.status.busy": "2022-01-31T22:24:21.718483Z",
     "iopub.status.idle": "2022-01-31T22:24:22.073262Z",
     "shell.execute_reply": "2022-01-31T22:24:22.073753Z",
     "shell.execute_reply.started": "2022-01-31T22:23:31.494243Z"
    },
    "papermill": {
     "duration": 0.367608,
     "end_time": "2022-01-31T22:24:22.073957",
     "exception": false,
     "start_time": "2022-01-31T22:24:21.706349",
     "status": "completed"
    },
    "tags": []
   },
   "outputs": [
    {
     "name": "stdout",
     "output_type": "stream",
     "text": [
      "<class 'pandas.core.frame.DataFrame'>\n",
      "RangeIndex: 40000 entries, 0 to 39999\n",
      "Data columns (total 15 columns):\n",
      " #   Column            Non-Null Count  Dtype  \n",
      "---  ------            --------------  -----  \n",
      " 0   id                40000 non-null  int64  \n",
      " 1   song_duration_ms  35899 non-null  float64\n",
      " 2   acousticness      36008 non-null  float64\n",
      " 3   danceability      35974 non-null  float64\n",
      " 4   energy            36025 non-null  float64\n",
      " 5   instrumentalness  36015 non-null  float64\n",
      " 6   key               35935 non-null  float64\n",
      " 7   liveness          35914 non-null  float64\n",
      " 8   loudness          36043 non-null  float64\n",
      " 9   audio_mode        40000 non-null  int64  \n",
      " 10  speechiness       40000 non-null  float64\n",
      " 11  tempo             40000 non-null  float64\n",
      " 12  time_signature    40000 non-null  int64  \n",
      " 13  audio_valence     40000 non-null  float64\n",
      " 14  song_popularity   40000 non-null  int64  \n",
      "dtypes: float64(11), int64(4)\n",
      "memory usage: 4.6 MB\n",
      "None\n",
      "---------------------\n",
      "<class 'pandas.core.frame.DataFrame'>\n",
      "RangeIndex: 10000 entries, 0 to 9999\n",
      "Data columns (total 14 columns):\n",
      " #   Column            Non-Null Count  Dtype  \n",
      "---  ------            --------------  -----  \n",
      " 0   id                10000 non-null  int64  \n",
      " 1   song_duration_ms  9043 non-null   float64\n",
      " 2   acousticness      9050 non-null   float64\n",
      " 3   danceability      9024 non-null   float64\n",
      " 4   energy            8945 non-null   float64\n",
      " 5   instrumentalness  9000 non-null   float64\n",
      " 6   key               9008 non-null   float64\n",
      " 7   liveness          8994 non-null   float64\n",
      " 8   loudness          8974 non-null   float64\n",
      " 9   audio_mode        10000 non-null  int64  \n",
      " 10  speechiness       10000 non-null  float64\n",
      " 11  tempo             10000 non-null  float64\n",
      " 12  time_signature    10000 non-null  int64  \n",
      " 13  audio_valence     10000 non-null  float64\n",
      "dtypes: float64(11), int64(3)\n",
      "memory usage: 1.1 MB\n",
      "None\n"
     ]
    }
   ],
   "source": [
    "train_df = pd.read_csv('/kaggle/input/song-popularity-prediction/train.csv')\n",
    "test_df = pd.read_csv('/kaggle/input/song-popularity-prediction/test.csv')\n",
    "print(train_df.info())\n",
    "print('---------------------')\n",
    "print(test_df.info())"
   ]
  },
  {
   "cell_type": "code",
   "execution_count": 3,
   "id": "b26befd0",
   "metadata": {
    "execution": {
     "iopub.execute_input": "2022-01-31T22:24:22.094732Z",
     "iopub.status.busy": "2022-01-31T22:24:22.094076Z",
     "iopub.status.idle": "2022-01-31T22:24:25.839698Z",
     "shell.execute_reply": "2022-01-31T22:24:25.838813Z",
     "shell.execute_reply.started": "2022-01-31T22:23:31.725494Z"
    },
    "papermill": {
     "duration": 3.758594,
     "end_time": "2022-01-31T22:24:25.839948",
     "exception": false,
     "start_time": "2022-01-31T22:24:22.081354",
     "status": "completed"
    },
    "tags": []
   },
   "outputs": [
    {
     "name": "stdout",
     "output_type": "stream",
     "text": [
      "[BEFORE] Number of NANs in the data frame 32187\n",
      "[AFTER] Number of NANs in the data frame 0\n"
     ]
    }
   ],
   "source": [
    "column_names = train_df.columns\n",
    "print(f\"[BEFORE] Number of NANs in the data frame {train_df.isna().sum().sum()}\")\n",
    "imp = IterativeImputer(random_state=42, max_iter=50, initial_strategy='mean')\n",
    "train_df = pd.DataFrame(imp.fit_transform(train_df), columns = column_names)\n",
    "print(f\"[AFTER] Number of NANs in the data frame {train_df.isna().sum().sum()}\")"
   ]
  },
  {
   "cell_type": "code",
   "execution_count": 4,
   "id": "95b45c6a",
   "metadata": {
    "execution": {
     "iopub.execute_input": "2022-01-31T22:24:25.895506Z",
     "iopub.status.busy": "2022-01-31T22:24:25.894345Z",
     "iopub.status.idle": "2022-01-31T22:24:25.984258Z",
     "shell.execute_reply": "2022-01-31T22:24:25.983729Z",
     "shell.execute_reply.started": "2022-01-31T22:23:35.623638Z"
    },
    "papermill": {
     "duration": 0.125253,
     "end_time": "2022-01-31T22:24:25.984414",
     "exception": false,
     "start_time": "2022-01-31T22:24:25.859161",
     "status": "completed"
    },
    "tags": []
   },
   "outputs": [
    {
     "data": {
      "text/html": [
       "<div>\n",
       "<style scoped>\n",
       "    .dataframe tbody tr th:only-of-type {\n",
       "        vertical-align: middle;\n",
       "    }\n",
       "\n",
       "    .dataframe tbody tr th {\n",
       "        vertical-align: top;\n",
       "    }\n",
       "\n",
       "    .dataframe thead th {\n",
       "        text-align: right;\n",
       "    }\n",
       "</style>\n",
       "<table border=\"1\" class=\"dataframe\">\n",
       "  <thead>\n",
       "    <tr style=\"text-align: right;\">\n",
       "      <th></th>\n",
       "      <th>id</th>\n",
       "      <th>song_duration_ms</th>\n",
       "      <th>acousticness</th>\n",
       "      <th>danceability</th>\n",
       "      <th>energy</th>\n",
       "      <th>instrumentalness</th>\n",
       "      <th>key</th>\n",
       "      <th>liveness</th>\n",
       "      <th>loudness</th>\n",
       "      <th>audio_mode</th>\n",
       "      <th>speechiness</th>\n",
       "      <th>tempo</th>\n",
       "      <th>time_signature</th>\n",
       "      <th>audio_valence</th>\n",
       "      <th>song_popularity</th>\n",
       "    </tr>\n",
       "  </thead>\n",
       "  <tbody>\n",
       "    <tr>\n",
       "      <th>count</th>\n",
       "      <td>40000.00000</td>\n",
       "      <td>40000.000000</td>\n",
       "      <td>40000.000000</td>\n",
       "      <td>40000.000000</td>\n",
       "      <td>40000.000000</td>\n",
       "      <td>40000.000000</td>\n",
       "      <td>40000.000000</td>\n",
       "      <td>40000.000000</td>\n",
       "      <td>40000.000000</td>\n",
       "      <td>40000.000000</td>\n",
       "      <td>40000.000000</td>\n",
       "      <td>40000.000000</td>\n",
       "      <td>40000.000000</td>\n",
       "      <td>40000.000000</td>\n",
       "      <td>40000.000000</td>\n",
       "    </tr>\n",
       "    <tr>\n",
       "      <th>mean</th>\n",
       "      <td>19999.50000</td>\n",
       "      <td>193164.915771</td>\n",
       "      <td>0.276022</td>\n",
       "      <td>0.570949</td>\n",
       "      <td>0.683732</td>\n",
       "      <td>0.036651</td>\n",
       "      <td>5.043749</td>\n",
       "      <td>0.198503</td>\n",
       "      <td>-7.407356</td>\n",
       "      <td>0.321150</td>\n",
       "      <td>0.094107</td>\n",
       "      <td>116.562815</td>\n",
       "      <td>3.394375</td>\n",
       "      <td>0.580645</td>\n",
       "      <td>0.364400</td>\n",
       "    </tr>\n",
       "    <tr>\n",
       "      <th>std</th>\n",
       "      <td>11547.14972</td>\n",
       "      <td>43532.153587</td>\n",
       "      <td>0.288565</td>\n",
       "      <td>0.182279</td>\n",
       "      <td>0.207593</td>\n",
       "      <td>0.142783</td>\n",
       "      <td>3.209573</td>\n",
       "      <td>0.143999</td>\n",
       "      <td>3.781104</td>\n",
       "      <td>0.466924</td>\n",
       "      <td>0.083591</td>\n",
       "      <td>26.167911</td>\n",
       "      <td>0.524405</td>\n",
       "      <td>0.237351</td>\n",
       "      <td>0.481268</td>\n",
       "    </tr>\n",
       "    <tr>\n",
       "      <th>min</th>\n",
       "      <td>0.00000</td>\n",
       "      <td>25658.000000</td>\n",
       "      <td>-0.103450</td>\n",
       "      <td>0.043961</td>\n",
       "      <td>-0.040054</td>\n",
       "      <td>-0.030025</td>\n",
       "      <td>0.000000</td>\n",
       "      <td>0.027843</td>\n",
       "      <td>-32.117911</td>\n",
       "      <td>0.000000</td>\n",
       "      <td>0.015065</td>\n",
       "      <td>62.055779</td>\n",
       "      <td>2.000000</td>\n",
       "      <td>0.013398</td>\n",
       "      <td>0.000000</td>\n",
       "    </tr>\n",
       "    <tr>\n",
       "      <th>25%</th>\n",
       "      <td>9999.75000</td>\n",
       "      <td>168444.500000</td>\n",
       "      <td>0.045912</td>\n",
       "      <td>0.440183</td>\n",
       "      <td>0.546396</td>\n",
       "      <td>0.001015</td>\n",
       "      <td>2.000000</td>\n",
       "      <td>0.114203</td>\n",
       "      <td>-9.494627</td>\n",
       "      <td>0.000000</td>\n",
       "      <td>0.038500</td>\n",
       "      <td>96.995309</td>\n",
       "      <td>3.000000</td>\n",
       "      <td>0.398669</td>\n",
       "      <td>0.000000</td>\n",
       "    </tr>\n",
       "    <tr>\n",
       "      <th>50%</th>\n",
       "      <td>19999.50000</td>\n",
       "      <td>188540.500000</td>\n",
       "      <td>0.152236</td>\n",
       "      <td>0.600681</td>\n",
       "      <td>0.707325</td>\n",
       "      <td>0.002158</td>\n",
       "      <td>5.243190</td>\n",
       "      <td>0.147288</td>\n",
       "      <td>-6.410053</td>\n",
       "      <td>0.000000</td>\n",
       "      <td>0.055881</td>\n",
       "      <td>113.795959</td>\n",
       "      <td>3.000000</td>\n",
       "      <td>0.598827</td>\n",
       "      <td>0.000000</td>\n",
       "    </tr>\n",
       "    <tr>\n",
       "      <th>75%</th>\n",
       "      <td>29999.25000</td>\n",
       "      <td>211122.500000</td>\n",
       "      <td>0.462658</td>\n",
       "      <td>0.708747</td>\n",
       "      <td>0.861742</td>\n",
       "      <td>0.003790</td>\n",
       "      <td>8.000000</td>\n",
       "      <td>0.216083</td>\n",
       "      <td>-4.687936</td>\n",
       "      <td>1.000000</td>\n",
       "      <td>0.118842</td>\n",
       "      <td>128.517383</td>\n",
       "      <td>4.000000</td>\n",
       "      <td>0.759635</td>\n",
       "      <td>1.000000</td>\n",
       "    </tr>\n",
       "    <tr>\n",
       "      <th>max</th>\n",
       "      <td>39999.00000</td>\n",
       "      <td>491671.000000</td>\n",
       "      <td>1.065284</td>\n",
       "      <td>0.957131</td>\n",
       "      <td>1.039741</td>\n",
       "      <td>1.075415</td>\n",
       "      <td>11.000000</td>\n",
       "      <td>1.065298</td>\n",
       "      <td>-0.877346</td>\n",
       "      <td>1.000000</td>\n",
       "      <td>0.560748</td>\n",
       "      <td>219.163578</td>\n",
       "      <td>5.000000</td>\n",
       "      <td>1.022558</td>\n",
       "      <td>1.000000</td>\n",
       "    </tr>\n",
       "  </tbody>\n",
       "</table>\n",
       "</div>"
      ],
      "text/plain": [
       "                id  song_duration_ms  acousticness  danceability  \\\n",
       "count  40000.00000      40000.000000  40000.000000  40000.000000   \n",
       "mean   19999.50000     193164.915771      0.276022      0.570949   \n",
       "std    11547.14972      43532.153587      0.288565      0.182279   \n",
       "min        0.00000      25658.000000     -0.103450      0.043961   \n",
       "25%     9999.75000     168444.500000      0.045912      0.440183   \n",
       "50%    19999.50000     188540.500000      0.152236      0.600681   \n",
       "75%    29999.25000     211122.500000      0.462658      0.708747   \n",
       "max    39999.00000     491671.000000      1.065284      0.957131   \n",
       "\n",
       "             energy  instrumentalness           key      liveness  \\\n",
       "count  40000.000000      40000.000000  40000.000000  40000.000000   \n",
       "mean       0.683732          0.036651      5.043749      0.198503   \n",
       "std        0.207593          0.142783      3.209573      0.143999   \n",
       "min       -0.040054         -0.030025      0.000000      0.027843   \n",
       "25%        0.546396          0.001015      2.000000      0.114203   \n",
       "50%        0.707325          0.002158      5.243190      0.147288   \n",
       "75%        0.861742          0.003790      8.000000      0.216083   \n",
       "max        1.039741          1.075415     11.000000      1.065298   \n",
       "\n",
       "           loudness    audio_mode   speechiness         tempo  time_signature  \\\n",
       "count  40000.000000  40000.000000  40000.000000  40000.000000    40000.000000   \n",
       "mean      -7.407356      0.321150      0.094107    116.562815        3.394375   \n",
       "std        3.781104      0.466924      0.083591     26.167911        0.524405   \n",
       "min      -32.117911      0.000000      0.015065     62.055779        2.000000   \n",
       "25%       -9.494627      0.000000      0.038500     96.995309        3.000000   \n",
       "50%       -6.410053      0.000000      0.055881    113.795959        3.000000   \n",
       "75%       -4.687936      1.000000      0.118842    128.517383        4.000000   \n",
       "max       -0.877346      1.000000      0.560748    219.163578        5.000000   \n",
       "\n",
       "       audio_valence  song_popularity  \n",
       "count   40000.000000     40000.000000  \n",
       "mean        0.580645         0.364400  \n",
       "std         0.237351         0.481268  \n",
       "min         0.013398         0.000000  \n",
       "25%         0.398669         0.000000  \n",
       "50%         0.598827         0.000000  \n",
       "75%         0.759635         1.000000  \n",
       "max         1.022558         1.000000  "
      ]
     },
     "execution_count": 4,
     "metadata": {},
     "output_type": "execute_result"
    }
   ],
   "source": [
    "train_df.describe()"
   ]
  },
  {
   "cell_type": "code",
   "execution_count": 5,
   "id": "ec758f20",
   "metadata": {
    "execution": {
     "iopub.execute_input": "2022-01-31T22:24:26.011081Z",
     "iopub.status.busy": "2022-01-31T22:24:26.010107Z",
     "iopub.status.idle": "2022-01-31T22:24:26.012547Z",
     "shell.execute_reply": "2022-01-31T22:24:26.013050Z",
     "shell.execute_reply.started": "2022-01-31T22:23:35.751776Z"
    },
    "papermill": {
     "duration": 0.019891,
     "end_time": "2022-01-31T22:24:26.013253",
     "exception": false,
     "start_time": "2022-01-31T22:24:25.993362",
     "status": "completed"
    },
    "tags": []
   },
   "outputs": [],
   "source": [
    "X_train = train_df.drop(['id', 'song_popularity'], axis=1)\n",
    "y_train = train_df['song_popularity']"
   ]
  }
 ],
 "metadata": {
  "kernelspec": {
   "display_name": "Python 3",
   "language": "python",
   "name": "python3"
  },
  "language_info": {
   "codemirror_mode": {
    "name": "ipython",
    "version": 3
   },
   "file_extension": ".py",
   "mimetype": "text/x-python",
   "name": "python",
   "nbconvert_exporter": "python",
   "pygments_lexer": "ipython3",
   "version": "3.7.12"
  },
  "papermill": {
   "default_parameters": {},
   "duration": 16.530122,
   "end_time": "2022-01-31T22:24:26.735790",
   "environment_variables": {},
   "exception": null,
   "input_path": "__notebook__.ipynb",
   "output_path": "__notebook__.ipynb",
   "parameters": {},
   "start_time": "2022-01-31T22:24:10.205668",
   "version": "2.3.3"
  }
 },
 "nbformat": 4,
 "nbformat_minor": 5
}
